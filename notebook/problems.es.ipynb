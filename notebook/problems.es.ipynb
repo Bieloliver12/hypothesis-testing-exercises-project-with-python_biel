{
 "cells": [
  {
   "cell_type": "markdown",
   "id": "d9d036c6",
   "metadata": {},
   "source": [
    "# Problemas de prueba de hipótesis"
   ]
  },
  {
   "cell_type": "markdown",
   "id": "d157c4db",
   "metadata": {},
   "source": [
    "## Ejercicio 1\n",
    "\n",
    "Usted es un nutricionista que investiga dos tipos diferentes de dietas para ver si existe una diferencia significativa en la pérdida de peso después de un mes. Eliges dos grupos aleatorios de personas; un grupo sigue la primera dieta y el otro sigue la segunda. Al final del mes, se registra la pérdida de peso (en kg) de cada persona:\n",
    "\n",
    "| Diet 1 | Diet 2 |\n",
    "|:-------|:-------|\n",
    "| 2.0 | 3.0 |\n",
    "| 2.5 | 3.2 |\n",
    "| 3.0 | 3.1 |\n",
    "| 2.8 | 2.9 |\n",
    "| 2.3 | 2.8 |\n",
    "| 2.7 | 3.0 |\n",
    "| 2.5 | 3.2 |\n",
    "\n",
    "Con estos datos se busca responder a la siguiente pregunta: ¿Existe una diferencia significativa en la pérdida de peso promedio entre las personas que siguieron la primera dieta y las que siguieron la segunda dieta?\n",
    "\n",
    "Para sacar conclusiones, siga los siguientes puntos:\n",
    "\n",
    "-Enunciar la hipótesis: hipótesis nula y alternativa.\n",
    "-Realizar la prueba para comprobar la hipótesis. Puede utilizar la prueba t de Student.\n",
    "-Analizar las conclusiones."
   ]
  },
  {
   "cell_type": "code",
   "execution_count": 1,
   "id": "8e0f3cf0",
   "metadata": {},
   "outputs": [
    {
     "name": "stdout",
     "output_type": "stream",
     "text": [
      "0.9635409177367069\n",
      "0.42481956403553034\n"
     ]
    }
   ],
   "source": [
    "# TODO\n",
    "from scipy import stats\n",
    "dieta1=[2.0,2.5,3.0,2.8,2.3,2.7,2.5]\n",
    "dieta2=[3.0,3.2,2.9,2.8,3.0,3.2]\n",
    "alpha= 0.05\n",
    "pvalue_dieta1=stats.shapiro(dieta1).pvalue\n",
    "pvalue_dieta2=stats.shapiro(dieta2).pvalue\n",
    "print(stats.shapiro(dieta1).pvalue)\n",
    "print(stats.shapiro(dieta2).pvalue)"
   ]
  },
  {
   "cell_type": "code",
   "execution_count": 2,
   "id": "20d73743",
   "metadata": {},
   "outputs": [
    {
     "name": "stdout",
     "output_type": "stream",
     "text": [
      "Ambas distribuciones son normales.\n",
      "Prueba de Levene p-value: 0.20071600620341357\n",
      "Las varianzas son iguales.\n",
      "La prueba t de Student muestra un valor p de 0.008652119393753342, lo que es menor que el nivel de significancia de 0.05. Por lo tanto, se rechaza la hipótesis nula y concluimos que existe una diferencia significativa en la pérdida de peso entre las personas\n",
      "Rechazamos la hipótesis nula. Existe una diferencia significativa\n"
     ]
    }
   ],
   "source": [
    "if pvalue_dieta1 >= alpha and pvalue_dieta2 >= alpha:\n",
    "    print(\"Ambas distribuciones son normales.\")\n",
    "    pvalue_levene = stats.levene(dieta1, dieta2).pvalue\n",
    "    print(f\"Prueba de Levene p-value: {pvalue_levene}\")\n",
    "\n",
    "    if pvalue_levene >= alpha:\n",
    "        print(\"Las varianzas son iguales.\")\n",
    "        pvalue_ttest = stats.ttest_ind(dieta1, dieta2, equal_var=True).pvalue\n",
    "    else:\n",
    "        print(\"Las varianzas no son iguales.\")\n",
    "        pvalue_ttest = stats.ttest_ind(dieta1, dieta2, equal_var=False).pvalue\n",
    "\n",
    "    print(f\"La prueba t de Student muestra un valor p de {pvalue_ttest}, lo que es menor que el nivel de significancia de 0.05. Por lo tanto, se rechaza la hipótesis nula y concluimos que existe una diferencia significativa en la pérdida de peso entre las personas\")\n",
    "\n",
    "    if pvalue_ttest < alpha:\n",
    "        print(\"Rechazamos la hipótesis nula. Existe una diferencia significativa\")\n",
    "    else:\n",
    "        print(\"No se rechaza la hipótesis nula, No hay diferencia significativa\")\n",
    "\n",
    "else:\n",
    "    print(\"Al menos una de las distribuciones no es normal.\")"
   ]
  },
  {
   "cell_type": "markdown",
   "id": "f432e18e",
   "metadata": {},
   "source": [
    "## ANOVA\n",
    "\n",
    "**ANOVA** (*Analysis of Variance - Análisis de variación*) Es una técnica estadística utilizada para comparar las medidas de dos o más grupos. La idea detrás de ANOVA es descomponer la variabilidad total de los datos en dos componentes: variabilidad entre grupos y variabilidad dentro de los grupos:\n",
    "\n",
    "- **Variabilidad entre grupos**: Esta variabilidad se refiere a las diferencias entre las medias del grupo. Si esta variabilidad es considerablemente mayor que la variabilidad dentro del grupo, podría ser una indicación de que al menos una de las medias del grupo es diferente.\n",
    "- **Variabilidad dentro del grupo**: Esta variabilidad se refiere a la dispersión de los datos dentro de cada grupo. Si todos los grupos tienen una variabilidad similar, entonces cualquier diferencia notable en las medias de los grupos podría considerarse significativa.\n",
    "\n",
    "Las hipótesis en ANOVA suelen incluir:\n",
    "\n",
    "- **Hipótesis nula** ($H₀$): Las medias de todos los grupos son iguales.\n",
    "- **Hipótesis alternativa** ($H₁$): Al menos una de las medias del grupo es diferente.\n",
    "\n",
    "Si el resultado de la prueba ANOVA es significativo (por ejemplo, un valor p inferior a un umbral como 0,05), esto sugiere que al menos la media de un grupo es diferente."
   ]
  },
  {
   "cell_type": "markdown",
   "id": "fc5f3721",
   "metadata": {},
   "source": [
    "## Ejercicio 2\n",
    "\n",
    "Un agricultor decide probar tres tipos diferentes de fertilizantes para determinar si alguno es superior en términos de producción de maíz. El agricultor planta maíz en 15 parcelas idénticas y utiliza los tres fertilizantes (5 parcelas para cada tipo). Al final de la temporada mide el rendimiento de maíz (en kg) de cada parcela, con el siguiente resultado:\n",
    "\n",
    "| Fertilizante 1 | Fertilizante 2 | Fertilizante 3 |\n",
    "|:-------------|:-------------|:-------------|\n",
    "| 20 | 22 | 24 |\n",
    "| 21 | 21 | 23 |\n",
    "| 20 | 23 | 22 |\n",
    "| 19 | 22 | 23 |\n",
    "| 20 | 21 | 24 |\n",
    "\n",
    "Con estos datos busca responder la siguiente pregunta: ¿Existe una diferencia significativa en el rendimiento promedio del maíz entre los tres tipos de fertilizantes?\n",
    "\n",
    "Para ayudarte, sigue los siguientes puntos:\n",
    "\n",
    "-Enunciar la hipótesis: hipótesis nula y alternativa.\n",
    "-Realizar la prueba ANOVA.\n",
    "-Analizar las conclusiones.\n",
    "-Si un fertilizante es mejor que otro, ¿cómo podemos saberlo?"
   ]
  },
  {
   "cell_type": "code",
   "execution_count": 3,
   "id": "eecad0ca",
   "metadata": {},
   "outputs": [
    {
     "name": "stdout",
     "output_type": "stream",
     "text": [
      "Estadístico F = 20.315789473684188\n",
      "P-valor = 0.00014047824793190475\n",
      "Rechazamos la hipótesis nula: Existe una diferencia significativa entre los fertilizantes.\n"
     ]
    }
   ],
   "source": [
    "# TODO\n",
    "from scipy import stats\n",
    "\n",
    "# Datos\n",
    "fertilizante1 = [20, 21, 20, 19, 20]\n",
    "fertilizante2 = [22, 21, 23, 22, 21]\n",
    "fertilizante3 = [24, 23, 22, 23, 24]\n",
    "\n",
    "alpha = 0.05  # Nivel de significanciarr\n",
    "\n",
    "# Realizar la prueba ANOVA \n",
    "f_statistic, p_value = stats.f_oneway(fertilizante1, fertilizante2, fertilizante3)\n",
    "\n",
    "# resultados\n",
    "print(f\"Estadístico F = {f_statistic}\")\n",
    "print(f\"P-valor = {p_value}\")\n",
    "\n",
    "# Evaluar hipótesis\n",
    "if p_value < alpha:\n",
    "    print(\"Rechazamos la hipótesis nula: Existe una diferencia significativa entre los fertilizantes.\")\n",
    "else:\n",
    "    print(\"No rechazamos la hipótesis nula: No hay diferencia significativa entre los fertilizantes.\")\n"
   ]
  }
 ],
 "metadata": {
  "kernelspec": {
   "display_name": "Python 3",
   "language": "python",
   "name": "python3"
  },
  "language_info": {
   "codemirror_mode": {
    "name": "ipython",
    "version": 3
   },
   "file_extension": ".py",
   "mimetype": "text/x-python",
   "name": "python",
   "nbconvert_exporter": "python",
   "pygments_lexer": "ipython3",
   "version": "3.11.4"
  }
 },
 "nbformat": 4,
 "nbformat_minor": 5
}
